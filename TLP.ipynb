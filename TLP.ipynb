{
 "cells": [
  {
   "cell_type": "markdown",
   "metadata": {},
   "source": [
    "# Predviđanje veza u mreži korz vrijeme\n"
   ]
  },
  {
   "cell_type": "markdown",
   "metadata": {},
   "source": [
    "*Temporal link prediction* iliti *TLP*.\n"
   ]
  },
  {
   "cell_type": "markdown",
   "metadata": {},
   "source": [
    "## Priprema okruženja\n"
   ]
  },
  {
   "cell_type": "code",
   "execution_count": 1,
   "metadata": {},
   "outputs": [],
   "source": [
    "# Standardna Python biblioteka.\n",
    "import copy\n",
    "import functools\n",
    "import math\n",
    "import numbers\n",
    "import warnings\n",
    "\n",
    "# SciPy paketi.\n",
    "import matplotlib as mpl\n",
    "import matplotlib.pyplot as plt\n",
    "import numpy as np\n",
    "\n",
    "# Paket Hyperopt.\n",
    "import hyperopt as ho\n"
   ]
  },
  {
   "cell_type": "code",
   "execution_count": 2,
   "metadata": {},
   "outputs": [],
   "source": [
    "%matplotlib inline\n"
   ]
  },
  {
   "cell_type": "code",
   "execution_count": 3,
   "metadata": {},
   "outputs": [
    {
     "name": "stderr",
     "output_type": "stream",
     "text": [
      "Using numpy backend.\n"
     ]
    }
   ],
   "source": [
    "from tlp import *\n"
   ]
  },
  {
   "cell_type": "markdown",
   "metadata": {},
   "source": [
    "## Generiranje mreže s vremenskom dimenzijom\n"
   ]
  },
  {
   "cell_type": "markdown",
   "metadata": {},
   "source": [
    "Mrežu definiramo kao matricu (na indeksu $ \\left( i , j \\right) $ je težina veze $ i $-tog čvora u prvoj domeni u vezi s $ j $-tim čvorom u drugoj domeni, pri čemu težina $ 0 $ označava da veze nema, a, ako je mreža bez težina, veze su označene težinom $ 1 $; ako su domene mreže iste i mreža je neusmjerena, matrica je simetrična), a stanja mreže kao tenzor kojemu su rezovi po zadnjoj dimenziji, gledani kao matrice, stanja mreže u određenom trenutku.\n",
    "\n",
    "Zbog manjka izvora stvarnih podataka, mrežu ćemo generirati vlastoručno.\n"
   ]
  },
  {
   "cell_type": "markdown",
   "metadata": {},
   "source": [
    "### Definicija parametara\n"
   ]
  },
  {
   "cell_type": "code",
   "execution_count": 4,
   "metadata": {},
   "outputs": [],
   "source": [
    "M = 10\n",
    "N = 10\n",
    "T = 40\n"
   ]
  },
  {
   "cell_type": "code",
   "execution_count": 5,
   "metadata": {},
   "outputs": [],
   "source": [
    "k = 4\n"
   ]
  },
  {
   "cell_type": "markdown",
   "metadata": {},
   "source": [
    "### Generiranje slučajne mreže bez pretpostavke periodičnosti\n"
   ]
  },
  {
   "cell_type": "markdown",
   "metadata": {},
   "source": [
    "Sljedeći dio k&ocirc;da (trenutno zakomentiran) služi zato da izračunamo norme komponenti tenzora čiji su elementi cijeli brojevi u intervalu $ \\left[ 0 \\mathinner{\\ldotp \\ldotp} 20 \\right] $ tako da je očekivana popunjenost u svakom rezu po trećoj dimenziji $ 50 \\, \\% $. Inicijalno su svi brojevi iz intervala $ \\left[ 1 \\mathinner{\\ldotp \\ldotp} 20 \\right] $ birani uniformno vjerojatno, zatim su oni među njima koji premašuju $ 10 $ s $ 50 $-postotnom vjerojatnosti umanjeni za $ 10 $, a, konačno, svaki element je u svakom rezu s $ 50 $-postotnom vjerojatnosti postavljen na $ 0 $.\n"
   ]
  },
  {
   "cell_type": "code",
   "execution_count": 6,
   "metadata": {},
   "outputs": [],
   "source": [
    "# Z = np.random.randint(1, 21, size = (M, N, T), dtype = int).copy(order = 'F')\n",
    "# for i in iter(range(T)):\n",
    "#     for r in iter(range(M)):\n",
    "#         for s in iter(range(N)):\n",
    "#             if Z[r, s, i] > 10:\n",
    "#                 if np.random.binomial(1, 0.5):\n",
    "#                     Z[r, s, i] -= 10\n",
    "#         try:\n",
    "#             del s\n",
    "#         except (NameError, UnboundLocalError):\n",
    "#             pass\n",
    "#     try:\n",
    "#         del r\n",
    "#     except (NameError, UnboundLocalError):\n",
    "#         pass\n",
    "#     Z[\n",
    "#         np.random.binomial(\n",
    "#             1,\n",
    "#             0.5,\n",
    "#             size = (M, N)\n",
    "#         ).astype(bool).copy(order = 'F'),\n",
    "#         i\n",
    "#     ] = 0\n",
    "# try:\n",
    "#     del i\n",
    "# except (NameError, UnboundLocalError):\n",
    "#     pass\n"
   ]
  },
  {
   "cell_type": "markdown",
   "metadata": {},
   "source": [
    "Od generiranog tenzora u sljedećoj čeliji računamo norme komponenti. Norme zatim spremamo u datoteku *lambda.npy*.\n"
   ]
  },
  {
   "cell_type": "code",
   "execution_count": 7,
   "metadata": {},
   "outputs": [],
   "source": [
    "# from tensorly.decomposition import parafac as parafac\n",
    "\n",
    "# cpd = list(parafac(Z.astype(float), k))\n",
    "\n",
    "# l = np.ones(k, dtype = float, order = 'F')\n",
    "# for i in iter(range(k)):\n",
    "#     for j in iter(range(len(cpd))):\n",
    "#         if (cpd[j][:, i] != 0).any():\n",
    "#             l[i] *= np.linalg.norm(cpd[j][:, i])\n",
    "#         else:\n",
    "#             l[i] = 0\n",
    "#     try:\n",
    "#         del j\n",
    "#     except (NameError, UnboundLocalError):\n",
    "#         pass\n",
    "# try:\n",
    "#     del i\n",
    "# except (UnboundLocalError):\n",
    "#     pass\n",
    "# l = np.flip(np.sort(l)).copy(order = 'F')\n",
    "\n",
    "# del cpd\n",
    "\n",
    "# np.save('data/lambda.npy', l)\n",
    "\n",
    "# del parafac\n"
   ]
  },
  {
   "cell_type": "markdown",
   "metadata": {},
   "source": [
    "### Generiranje slučajne mreže s pretpostavkom periodičnosti\n"
   ]
  },
  {
   "cell_type": "markdown",
   "metadata": {},
   "source": [
    "Sljedeći dio koda služi za generiranje mreže u kojoj po trećoj dimenziji možemo donekle očekivati periodičnost. Mrežu generiramo tako da generiramo njen rastav na komponente, a zatim te komponente množimo u tenzor (mrežu). Na kraju osiguravamo da su vrijednosti u mreži cjelobrojne i iz intervala $ \\left[ 0 \\mathinner{\\ldotp \\ldotp} 20 \\right] $. Rastav na komponente inspiriran je *CP* dekompozicijom tenzora, ali nije garantirano da će komponente uistinu biti one koje bi se dobile *CP* dekompozicijom. Ipak, treće komponente ponašat će se periodički (uz dodani šum), a ta periodičnost zadržat će se u tenzoru dobivenom kombiniranjem generiranih komponenti, stoga očekujemo periodičnost trećih komponenti dobivenih *CP* dekompozicijom dobivenog tenzora.\n"
   ]
  },
  {
   "cell_type": "markdown",
   "metadata": {},
   "source": [
    "Učitajmo norme komponenti tenzora kojeg ćemo generirati.\n"
   ]
  },
  {
   "cell_type": "code",
   "execution_count": 8,
   "metadata": {},
   "outputs": [],
   "source": [
    "l = None\n",
    "l0 = np.load('data/lambda.npy').ravel()\n",
    "h = int(round(math.ceil(float(l0.size) / k)))\n",
    "l = np.zeros(h * k, dtype = l0.dtype, order = 'C')\n",
    "l[:l0.size] = l0\n",
    "l = l.reshape((h, k)).sum(axis = 0).copy(order = 'F')\n",
    "del l0\n",
    "del h\n"
   ]
  },
  {
   "cell_type": "markdown",
   "metadata": {},
   "source": [
    "Učitajmo *očekivanja* i *standardne devijacije* za generiranje diskretnih Fourireovih transformacija kojima ćemo generirati periodične nizove.\n"
   ]
  },
  {
   "cell_type": "code",
   "execution_count": 9,
   "metadata": {},
   "outputs": [],
   "source": [
    "mu = (np.load('data/mu_real.npy'), np.load('data/mu_imag.npy'))\n",
    "sigma = (np.load('data/sigma_real.npy'), np.load('data/sigma_imag.npy'))\n"
   ]
  },
  {
   "cell_type": "markdown",
   "metadata": {},
   "source": [
    "Sljedeći parametri služe za generiranje treće komponente iz koeficijenata diskretne Fourierove transformacije. Parametar `m` prosljeđuje se funkciji `numpy.fft.irfft` kao duljina niza koji se generira, parametar `n` prosljeđuje se funkciji `rand_fft` kao broj koeficijenata koji se generiraju, a parametar `t` definira *šum*: svakom se generiranom nizu dodatno zbrajaju vrijednosti slučajno birane po normalnoj distribuciji s očekivanjem $ 0 $ i standardnom devijacijom `t * std` gdje je `std` standardna devijacija te komponte nakon diskretizacije na `T` točaka, ali prije normiranja.\n"
   ]
  },
  {
   "cell_type": "code",
   "execution_count": 10,
   "metadata": {},
   "outputs": [],
   "source": [
    "m = 1025\n",
    "n = 32\n",
    "t = 0.5\n"
   ]
  },
  {
   "cell_type": "markdown",
   "metadata": {},
   "source": [
    "Generirajmo prve i druge komponente. Generiramo ih slučajnim biranjem vrijednosti normalnom distribucijom s očekivanjem $ 0 $ i varijancom $ 1 $, ali, negativne vrijednosti zatim postavljamo na $ 0 $, a komponente, naravno, normiramo.\n"
   ]
  },
  {
   "cell_type": "code",
   "execution_count": 11,
   "metadata": {},
   "outputs": [],
   "source": [
    "a = np.random.randn(k, M).astype(float)\n",
    "b = np.random.randn(k, N).astype(float)\n",
    "\n",
    "for i in iter(range(k)):\n",
    "    a[i, a[i] <= 0] = 0\n",
    "    b[i, b[i] <= 0] = 0\n",
    "    if (a[i] != 0).any():\n",
    "        a[i, :] /= np.linalg.norm(a[i])\n",
    "    else:\n",
    "        a[i, :] = 0\n",
    "    if (b[i] != 0).any():\n",
    "        b[i, :] /= np.linalg.norm(b[i])\n",
    "    else:\n",
    "        b[i, :] = 0\n",
    "try:\n",
    "    del i\n",
    "except (NameError, UnboundLocalError):\n",
    "    pass\n",
    "\n",
    "a = a.T.copy(order = 'F')\n",
    "b = b.T.copy(order = 'F')\n"
   ]
  },
  {
   "cell_type": "markdown",
   "metadata": {},
   "source": [
    "Generirajmo sada postepeno treće komponente. Prvo, funkcijama `rand_fft` i `numpy.fft.irfft` (s vjerojatnosti od $ 50 \\, \\% $ dobiveni niz pomnožimo s $ {- 1} $) generirajmo `k` komponenti duljine `m`.\n"
   ]
  },
  {
   "cell_type": "code",
   "execution_count": 12,
   "metadata": {},
   "outputs": [],
   "source": [
    "c = np.array(\n",
    "    [\n",
    "        -1 ** np.random.binomial(1, 0.5) *\n",
    "        np.fft.irfft(rand_fft(n, mu, sigma), n = m)\n",
    "            for i in iter(range(k))\n",
    "    ],\n",
    "    dtype = float,\n",
    "    order = 'F'\n",
    ")\n",
    "try:\n",
    "    del i\n",
    "except (NameError, UnboundLocalError):\n",
    "    pass\n"
   ]
  },
  {
   "cell_type": "markdown",
   "metadata": {},
   "source": [
    "Iz nizova duljine `m` ekstrahirajmo sada `T` ravnomjerno raspoređenih vrijednosti.\n"
   ]
  },
  {
   "cell_type": "code",
   "execution_count": 13,
   "metadata": {},
   "outputs": [],
   "source": [
    "c_old = c.copy(order = 'F')\n",
    "c = np.zeros((k, T + 1), dtype = float, order = 'F')\n",
    "if not T:\n",
    "    c[:, 0] = c_old.mean(axis = 1)\n",
    "else:\n",
    "    for i in iter(range(int(c.shape[1]))):\n",
    "        j = float(i) / T * int(c_old.shape[1] - 1)\n",
    "        c[:, i] = (\n",
    "            c_old[:, int(math.floor(j))] +\n",
    "            (j - math.floor(j)) * (\n",
    "                c_old[:, int(math.ceil(j))] - c_old[:, int(math.floor(j))]\n",
    "            )\n",
    "        )\n",
    "        del j\n",
    "    try:\n",
    "        del i\n",
    "    except (NameError, UnboundLocalError):\n",
    "        pass\n",
    "c = c[:, :-1].copy(order = 'F')\n",
    "del c_old\n"
   ]
  },
  {
   "cell_type": "markdown",
   "metadata": {},
   "source": [
    "Dodajmo tim komponentama sada i šum.\n"
   ]
  },
  {
   "cell_type": "code",
   "execution_count": 14,
   "metadata": {},
   "outputs": [],
   "source": [
    "for i in iter(range(k)):\n",
    "    std = None\n",
    "    try:\n",
    "        std = c[i].std(ddof = 1)\n",
    "        if std is None:\n",
    "            std = 0.0\n",
    "    except ValueError:\n",
    "        std = 0.0\n",
    "    c[i] += t * std * np.random.randn(c.shape[1])\n",
    "    del std\n",
    "try:\n",
    "    del i\n",
    "except (NameError, UnboundLocalError):\n",
    "    pass\n"
   ]
  },
  {
   "cell_type": "markdown",
   "metadata": {},
   "source": [
    "Normirajmo sada treće komponente, ali prije toga, po volji, tretirajmo negativne vrijednosti. Trenutno su predložene opcije (zakomentirane linije) uzimanje apsolutnih vrijednosti elemenata komponenti, translacija komponenti tako da im je najmanja postignuta vrijednost $ 0 $ i postavljanje svih negativnih vrijednosti na $ 0 $.\n"
   ]
  },
  {
   "cell_type": "code",
   "execution_count": 15,
   "metadata": {},
   "outputs": [],
   "source": [
    "for i in iter(range(k)):\n",
    "#   c[i, :] = np.abs(c[i])\n",
    "#   c[i, :] -= c[i].min()\n",
    "#   c[i, c[i] <= 0] = 0\n",
    "    if (c[i] != 0).any():\n",
    "        c[i] /= np.linalg.norm(c[i])\n",
    "    else:\n",
    "        c[i, :] = 0\n",
    "try:\n",
    "    del i\n",
    "except (NameError, UnboundLocalError):\n",
    "    pass\n"
   ]
  },
  {
   "cell_type": "markdown",
   "metadata": {},
   "source": [
    "Konačno, pretvorimo treće komponente u stupce umjesto redaka.\n"
   ]
  },
  {
   "cell_type": "code",
   "execution_count": 16,
   "metadata": {},
   "outputs": [],
   "source": [
    "c = c.T.copy(order = 'F')\n"
   ]
  },
  {
   "cell_type": "markdown",
   "metadata": {},
   "source": [
    "Demonstracije radi, prikažimo treće komponente grafički. Periodičnost bi se trebala nazirati, ali bi trebala biti iskvarena ovisno o šumu zadanom parametrom `t`.\n"
   ]
  },
  {
   "cell_type": "code",
   "execution_count": 17,
   "metadata": {},
   "outputs": [
    {
     "data": {
      "image/png": "[encoded data removed]",
      "text/plain": [
       "<Figure size 432x288 with 1 Axes>"
      ]
     },
     "metadata": {
      "needs_background": "light"
     },
     "output_type": "display_data"
    }
   ],
   "source": [
    "fig, ax = plt.subplots(nrows = 1, ncols = 1)\n",
    "\n",
    "for i in iter(range(k)):\n",
    "    ax.plot(c[:, i])\n",
    "try:\n",
    "    del i\n",
    "except (NameError, UnboundLocalError):\n",
    "    pass\n",
    "plt.show()\n"
   ]
  },
  {
   "cell_type": "code",
   "execution_count": 18,
   "metadata": {},
   "outputs": [],
   "source": [
    "del fig\n",
    "del ax\n"
   ]
  },
  {
   "cell_type": "markdown",
   "metadata": {},
   "source": [
    "Nakon što smo generirali normirane komponente, izmnožimo ih u tenzor. Zatim *rastegnimo* odnosno *kontrahirajmo* vrijednosti u dobivenom vrijednosti tako da $ 80 $-i centil postavimo na $ 20 $ ako je on strogo pozitivan (u protivnom tenzor samo izmnožimo s $ 20 $), zaokružimo vrijednosti u tenzoru na cijele brojeve, vrijednosti veće od $ 20 $ umanjujemo za $ 20 $ dok ne premašuju $ 20 $ i na kraju sve negativne vrijednosti postavimo na $ 0 $.\n"
   ]
  },
  {
   "cell_type": "code",
   "execution_count": 19,
   "metadata": {},
   "outputs": [],
   "source": [
    "Z = np.zeros((M, N, T), dtype = float).copy(order = 'F')\n",
    "for i in iter(range(k)):\n",
    "    Z += (\n",
    "        l[i] *\n",
    "        a[:, i].reshape((M, 1, 1)) *\n",
    "        b[:, i].reshape((1, N, 1)) *\n",
    "        c[:, i].reshape((1, 1, T))\n",
    "    )\n",
    "try:\n",
    "    del i\n",
    "except (NameError, UnboundLocalError):\n",
    "    pass\n",
    "H = np.percentile(Z, 80)\n",
    "if H <= 0:\n",
    "    Z = 20 * Z\n",
    "else:\n",
    "    Z = 20 * Z / H\n",
    "Z = Z.round().astype(int).copy(order = 'F')\n",
    "while (Z > 20).any(): # vjerojatno se može pametnije uz upotrebu operatora %\n",
    "    Z[Z > 20] -= 20   # odnosno %=\n",
    "Z[Z <= 0] = 0\n"
   ]
  },
  {
   "cell_type": "markdown",
   "metadata": {},
   "source": [
    "Provjerimo *popunjenost* generiranog tenzora (udio njegovih elemenata različitih od $ 0 $).\n",
    "\n",
    "***Napomena.*** Ukupna popunjenost ne znači da je tolika popunjenost u svakom rezu po zadnjoj dimenziji, kao što smo radili kod generiranja mreže bez pretpostavke periodičnosti.\n"
   ]
  },
  {
   "cell_type": "code",
   "execution_count": 20,
   "metadata": {},
   "outputs": [
    {
     "data": {
      "text/plain": [
       "34.35"
      ]
     },
     "execution_count": 20,
     "metadata": {},
     "output_type": "execute_result"
    }
   ],
   "source": [
    "100.0 * float((Z > 0).sum(dtype = float) / Z.size)\n"
   ]
  },
  {
   "cell_type": "code",
   "execution_count": 21,
   "metadata": {},
   "outputs": [
    {
     "data": {
      "image/png": "[encoded data removed]",
      "text/plain": [
       "<Figure size 432x288 with 1 Axes>"
      ]
     },
     "metadata": {
      "needs_background": "light"
     },
     "output_type": "display_data"
    }
   ],
   "source": [
    "U, V = np.meshgrid(np.arange(M * N, dtype = int), np.arange(T, dtype = int))\n",
    "W = np.array(\n",
    "    [Z[:, :, i].ravel() for i in iter(range(int(Z.shape[2])))],\n",
    "    dtype = float,\n",
    "    order = 'F'\n",
    ")\n",
    "try:\n",
    "    del i\n",
    "except (NameError, UnboundLocalError):\n",
    "    pass\n",
    "\n",
    "fig, ax = plt.subplots(nrows = 1, ncols = 1)\n",
    "ax.contourf(U, V, W)\n",
    "plt.show()\n"
   ]
  },
  {
   "cell_type": "code",
   "execution_count": 22,
   "metadata": {},
   "outputs": [],
   "source": [
    "del fig\n",
    "del ax\n",
    "del U\n",
    "del V\n",
    "del W\n"
   ]
  },
  {
   "cell_type": "code",
   "execution_count": null,
   "metadata": {},
   "outputs": [],
   "source": []
  }
 ],
 "metadata": {
  "kernelspec": {
   "display_name": "Python 3",
   "language": "python",
   "name": "python3"
  },
  "language_info": {
   "codemirror_mode": {
    "name": "ipython",
    "version": 3
   },
   "file_extension": ".py",
   "mimetype": "text/x-python",
   "name": "python",
   "nbconvert_exporter": "python",
   "pygments_lexer": "ipython3",
   "version": "3.7.3"
  }
 },
 "nbformat": 4,
 "nbformat_minor": 2
}
